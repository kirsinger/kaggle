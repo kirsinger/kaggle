{
 "cells": [
  {
   "cell_type": "code",
   "execution_count": 2,
   "metadata": {
    "collapsed": true
   },
   "outputs": [],
   "source": [
    "%matplotlib inline\n",
    "\n",
    "import pandas as pd"
   ]
  },
  {
   "cell_type": "code",
   "execution_count": 3,
   "metadata": {
    "collapsed": false
   },
   "outputs": [],
   "source": [
    "train = pd.read_csv('train.csv')\n",
    "\n",
    "train.set_index('PassengerId', inplace=True)"
   ]
  },
  {
   "cell_type": "code",
   "execution_count": 4,
   "metadata": {
    "collapsed": false
   },
   "outputs": [
    {
     "data": {
      "text/plain": [
       "Index(['Survived', 'Pclass', 'Name', 'Sex', 'Age', 'SibSp', 'Parch', 'Ticket',\n",
       "       'Fare', 'Cabin', 'Embarked'],\n",
       "      dtype='object')"
      ]
     },
     "execution_count": 4,
     "metadata": {},
     "output_type": "execute_result"
    }
   ],
   "source": [
    "train.columns"
   ]
  },
  {
   "cell_type": "code",
   "execution_count": 20,
   "metadata": {
    "collapsed": false
   },
   "outputs": [
    {
     "data": {
      "text/plain": [
       "PassengerId\n",
       "1      3\n",
       "2      1\n",
       "3      3\n",
       "4      1\n",
       "5      3\n",
       "6      3\n",
       "7      1\n",
       "8      3\n",
       "9      3\n",
       "10     2\n",
       "11     3\n",
       "12     1\n",
       "13     3\n",
       "14     3\n",
       "15     3\n",
       "16     2\n",
       "17     3\n",
       "18     2\n",
       "19     3\n",
       "20     3\n",
       "21     2\n",
       "22     2\n",
       "23     3\n",
       "24     1\n",
       "25     3\n",
       "26     3\n",
       "27     3\n",
       "28     1\n",
       "29     3\n",
       "30     3\n",
       "      ..\n",
       "862    2\n",
       "863    1\n",
       "864    3\n",
       "865    2\n",
       "866    2\n",
       "867    2\n",
       "868    1\n",
       "869    3\n",
       "870    3\n",
       "871    3\n",
       "872    1\n",
       "873    1\n",
       "874    3\n",
       "875    2\n",
       "876    3\n",
       "877    3\n",
       "878    3\n",
       "879    3\n",
       "880    1\n",
       "881    2\n",
       "882    3\n",
       "883    3\n",
       "884    2\n",
       "885    3\n",
       "886    3\n",
       "887    2\n",
       "888    1\n",
       "889    3\n",
       "890    1\n",
       "891    3\n",
       "dtype: int64"
      ]
     },
     "execution_count": 20,
     "metadata": {},
     "output_type": "execute_result"
    }
   ],
   "source": [
    "train.apply(\n",
    "    lambda args: args['Pclass'], axis=1\n",
    ")"
   ]
  },
  {
   "cell_type": "code",
   "execution_count": 4,
   "metadata": {
    "collapsed": false
   },
   "outputs": [
    {
     "data": {
      "text/plain": [
       "Survived    891\n",
       "Pclass      891\n",
       "Name        891\n",
       "Sex         891\n",
       "Age         714\n",
       "SibSp       891\n",
       "Parch       891\n",
       "Ticket      891\n",
       "Fare        891\n",
       "Cabin       204\n",
       "Embarked    889\n",
       "dtype: int64"
      ]
     },
     "execution_count": 4,
     "metadata": {},
     "output_type": "execute_result"
    }
   ],
   "source": [
    "train.count()"
   ]
  },
  {
   "cell_type": "code",
   "execution_count": 7,
   "metadata": {
    "collapsed": false
   },
   "outputs": [
    {
     "data": {
      "text/plain": [
       "PassengerId\n",
       "2              C85\n",
       "4             C123\n",
       "7              E46\n",
       "11              G6\n",
       "12            C103\n",
       "22             D56\n",
       "24              A6\n",
       "28     C23 C25 C27\n",
       "32             B78\n",
       "53             D33\n",
       "55             B30\n",
       "56             C52\n",
       "62             B28\n",
       "63             C83\n",
       "67             F33\n",
       "76           F G73\n",
       "89     C23 C25 C27\n",
       "93             E31\n",
       "97              A5\n",
       "98         D10 D12\n",
       "103            D26\n",
       "111           C110\n",
       "119        B58 B60\n",
       "124           E101\n",
       "125            D26\n",
       "129          F E69\n",
       "137            D47\n",
       "138           C123\n",
       "140            B86\n",
       "149             F2\n",
       "          ...     \n",
       "752           E121\n",
       "760            B77\n",
       "764        B96 B98\n",
       "766            D11\n",
       "773            E77\n",
       "777            F38\n",
       "780             B3\n",
       "782            B20\n",
       "783             D6\n",
       "790        B82 B84\n",
       "797            D17\n",
       "803        B96 B98\n",
       "807            A36\n",
       "810             E8\n",
       "816           B102\n",
       "821            B69\n",
       "824           E121\n",
       "830            B28\n",
       "836            E49\n",
       "840            C47\n",
       "850            C92\n",
       "854            D28\n",
       "858            E17\n",
       "863            D17\n",
       "868            A24\n",
       "872            D35\n",
       "873    B51 B53 B55\n",
       "880            C50\n",
       "888            B42\n",
       "890           C148\n",
       "Name: Cabin, dtype: object"
      ]
     },
     "execution_count": 7,
     "metadata": {},
     "output_type": "execute_result"
    }
   ],
   "source": [
    "train[~train['Cabin'].isnull()]['Cabin']"
   ]
  },
  {
   "cell_type": "code",
   "execution_count": null,
   "metadata": {
    "collapsed": false
   },
   "outputs": [],
   "source": [
    "train[train['Survived'] == 1.0]['SibSp'].plot(\n",
    "    kind = 'hist'\n",
    ")"
   ]
  },
  {
   "cell_type": "code",
   "execution_count": null,
   "metadata": {
    "collapsed": false
   },
   "outputs": [],
   "source": [
    "train.plot(\n",
    "    kind = 'scatter',\n",
    "    x = 'Pclass',\n",
    "    y = 'Survived'\n",
    ")"
   ]
  },
  {
   "cell_type": "code",
   "execution_count": null,
   "metadata": {
    "collapsed": false
   },
   "outputs": [],
   "source": [
    "train.plot(\n",
    "    kind = 'scatter',\n",
    "    x = 'SibSp',\n",
    "    y = 'Survived'\n",
    ")"
   ]
  },
  {
   "cell_type": "code",
   "execution_count": null,
   "metadata": {
    "collapsed": false
   },
   "outputs": [],
   "source": [
    "train.plot(\n",
    "    kind = 'scatter',\n",
    "    x = 'Parch',\n",
    "    y = 'Survived'\n",
    ")"
   ]
  },
  {
   "cell_type": "code",
   "execution_count": null,
   "metadata": {
    "collapsed": false
   },
   "outputs": [],
   "source": [
    "train.plot(\n",
    "    kind = 'scatter',\n",
    "    x = 'Fare',\n",
    "    y = 'Survived'\n",
    ")"
   ]
  },
  {
   "cell_type": "code",
   "execution_count": null,
   "metadata": {
    "collapsed": false
   },
   "outputs": [],
   "source": [
    "train.plot(\n",
    "    kind = 'scatter',\n",
    "    x = train['Sex'].apply(lambda s: 1 if s == 'male' else 0),\n",
    "    y = train['Survived']\n",
    ")"
   ]
  }
 ],
 "metadata": {
  "anaconda-cloud": {},
  "kernelspec": {
   "display_name": "Python [default]",
   "language": "python",
   "name": "python3"
  },
  "language_info": {
   "codemirror_mode": {
    "name": "ipython",
    "version": 3
   },
   "file_extension": ".py",
   "mimetype": "text/x-python",
   "name": "python",
   "nbconvert_exporter": "python",
   "pygments_lexer": "ipython3",
   "version": "3.5.2"
  }
 },
 "nbformat": 4,
 "nbformat_minor": 1
}
